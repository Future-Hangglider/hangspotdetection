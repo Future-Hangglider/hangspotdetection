{
 "cells": [
  {
   "cell_type": "code",
   "execution_count": 14,
   "metadata": {},
   "outputs": [
    {
     "name": "stdout",
     "output_type": "stream",
     "text": [
      "\u001b[34mConnecting to --port=/dev/ttyUSB5 --baud=115200 \u001b[0m\n",
      "\u001b[34mReady.\n",
      "\u001b[0m"
     ]
    }
   ],
   "source": [
    "%serialconnect"
   ]
  },
  {
   "cell_type": "code",
   "execution_count": 15,
   "metadata": {},
   "outputs": [
    {
     "name": "stdout",
     "output_type": "stream",
     "text": [
      "30aea44cb0b5\r\n"
     ]
    }
   ],
   "source": [
    "import network\n",
    "\n",
    "si = network.WLAN(network.AP_IF)\n",
    "macaddress = \"\".join(\"{:02x}\".format(x)  for x in si.config(\"mac\"))\n",
    "print(macaddress)\n",
    "si.active(True)\n"
   ]
  },
  {
   "cell_type": "code",
   "execution_count": 17,
   "metadata": {},
   "outputs": [],
   "source": [
    "si.config(essid='ESP32W')\n",
    "si.config(authmode=3, password='123456789')"
   ]
  },
  {
   "cell_type": "code",
   "execution_count": 19,
   "metadata": {},
   "outputs": [
    {
     "name": "stdout",
     "output_type": "stream",
     "text": [
      "object <WLAN> is of type WLAN\n",
      "  active -- <function>\n",
      "  connect -- <function>\n",
      "  disconnect -- <function>\n",
      "  status -- <function>\n",
      "  scan -- <function>\n",
      "  isconnected -- <function>\n",
      "  config -- <function>\n",
      "  ifconfig -- <function>\n"
     ]
    }
   ],
   "source": [
    "help(si)"
   ]
  },
  {
   "cell_type": "code",
   "execution_count": 21,
   "metadata": {
    "collapsed": true
   },
   "outputs": [],
   "source": [
    "import socket\n",
    "s = socket.socket(socket.AF_INET, socket.SOCK_DGRAM)\n",
    "us = (\"192.168.4.2\", 4353)"
   ]
  },
  {
   "cell_type": "code",
   "execution_count": 38,
   "metadata": {
    "collapsed": true
   },
   "outputs": [],
   "source": [
    "s.sendto(b\"hi there\\n\", us)"
   ]
  },
  {
   "cell_type": "code",
   "execution_count": 47,
   "metadata": {},
   "outputs": [],
   "source": [
    "math.sqrt"
   ]
  },
  {
   "cell_type": "code",
   "execution_count": 49,
   "metadata": {},
   "outputs": [
    {
     "name": "stdout",
     "output_type": "stream",
     "text": [
      "b'$GPGGA,000141.000,5324.811,N,0154.285,W,1,12,1.0,100.0,M,0.0,M,,*4e\\r\\n'\r\n"
     ]
    }
   ],
   "source": [
    "import math, time\n",
    "\n",
    "tstamp0 = 365*24*3600*18+100\n",
    "lat0, lng0 = 53.4121628,-2.9864259\n",
    "lat0, lng0 = 53.413522,-1.9062517\n",
    "velknots, veldir = 0, 0\n",
    "\n",
    "earthrad = 6378137\n",
    "nyfac = 2*math.pi*earthrad/360\n",
    "exfac = nyfac*math.cos(math.radians(lat0))\n",
    "\n",
    "def tform(dtseconds):\n",
    "    tstamp = time.localtime(tstamp0 + dtseconds)\n",
    "    return \"%02u%02u%02u.%03d\" % \\\n",
    "        (tstamp[3], tstamp[4], tstamp[5], 0)\n",
    "    \n",
    "def latlngform(x, y):\n",
    "    lat = lat0 + y/nyfac\n",
    "    lng = lng0 + x/exfac\n",
    "    return \"%02d%06.3f,%c,%02d%06.3f,%c\" % \\\n",
    "        (int(abs(lat)), (abs(lat)-math.floor(abs(lat)))*60, 'N' if lat>0 else 'S', \n",
    "         int(abs(lng)), (abs(lng)-math.floor(abs(lng)))*60, 'E' if lng>0 else 'W')\n",
    "\n",
    "def wrapchecksum(rec):\n",
    "    s = 0\n",
    "    for c in rec:\n",
    "        s ^= ord(c)\n",
    "    return \"${:s}*{:02x}\\r\\n\".format(rec, s).encode()\n",
    "\n",
    "prevx, prevy, prevdtseconds = 0, 0, 0\n",
    "def gprmcrec(dtseconds, x, y):\n",
    "    global prevx, prevy, prevdtseconds\n",
    "    dx, dy, ddt = x-prevx, y-prevy, dtseconds-prevdtseconds\n",
    "    velknots = math.sqrt(dx**2 + dy**2)*1.94384/max(0.1, ddt)\n",
    "    veldir = (360+math.degrees(math.atan2(dx, dy)))%360\n",
    "    prevx, prevy, prevdtseconds = x, y, dtseconds\n",
    "    #velknots, veldir = 0, 0\n",
    "    tstamp = time.localtime(tstamp0 + dtseconds)\n",
    "    rec = \"GPRMC,%s,A,%s,%05.1f,%05.1f,%02u%02u%02u,000.0,\" % \\\n",
    "        (tform(dtseconds), latlngform(x, y), \n",
    "         min(velknots, 100), veldir, tstamp[2], tstamp[1], tstamp[0]%100)\n",
    "    return wrapchecksum(rec)\n",
    "\n",
    "def gpggarec(dtseconds, x, y, alt):\n",
    "    rec = \"GPGGA,%s,%s,1,12,1.0,%.1f,M,0.0,M,,\" % \\\n",
    "        (tform(dtseconds), latlngform(x, y), alt)\n",
    "    return wrapchecksum(rec)\n",
    "\n",
    "#$GPRMC,153412.410,A,5230.600,N,01323.246,E,2027.8,289.2,310718,000.0,W*4C\n",
    "#$GPGGA,153413.410,5230.879,N,01322.443,E,1,12,1.0,0.0,M,0.0,M,,*69\n",
    "gprmcrec(1, 100, 0)\n",
    "print(gpggarec(1, 100, 0, 100))\n"
   ]
  },
  {
   "cell_type": "code",
   "execution_count": 54,
   "metadata": {},
   "outputs": [
    {
     "name": "stdout",
     "output_type": "stream",
     "text": [
      "....................................................................\n",
      "**[ys] <class 'serial.serialutil.SerialException'>\n",
      "**[ys] read failed: device reports readiness to read but returned no data (device disconnected or multiple access on port?)\n",
      "\n",
      "\n",
      "**[ys] <class 'serial.serialutil.SerialException'>\n",
      "**[ys] read failed: device reports readiness to read but returned no data (device disconnected or multiple access on port?)\n",
      "\n"
     ]
    }
   ],
   "source": [
    "import time, math\n",
    "circlerad = 90\n",
    "circleperiod = 40   \n",
    "climbrate = 1.2\n",
    "tperiod = 1\n",
    "\n",
    "def ust(rec):\n",
    "    s.sendto(rec, us)\n",
    "\n",
    "for i in range(4000):\n",
    "    t = int(i/tperiod)\n",
    "    theta = math.radians(360*t/circleperiod)\n",
    "    x, y = math.sin(theta)*circlerad, math.cos(theta)*circlerad\n",
    "    alt = 800+x\n",
    "    x = t*circlerad/10\n",
    "    #alt = 800+t*climbrate\n",
    "    ust(gprmcrec(t, x, y))\n",
    "    ust(gpggarec(t, x, y, alt))\n",
    "    time.sleep(1/tperiod)\n",
    "    "
   ]
  },
  {
   "cell_type": "code",
   "execution_count": null,
   "metadata": {
    "collapsed": true
   },
   "outputs": [],
   "source": []
  }
 ],
 "metadata": {
  "kernelspec": {
   "display_name": "MicroPython - USB",
   "language": "micropython",
   "name": "micropython"
  },
  "language_info": {
   "codemirror_mode": "python",
   "file_extension": ".py",
   "mimetype": "text/python",
   "name": "micropython"
  }
 },
 "nbformat": 4,
 "nbformat_minor": 2
}
