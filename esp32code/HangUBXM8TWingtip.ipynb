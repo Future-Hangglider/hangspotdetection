{
 "cells": [
  {
   "cell_type": "code",
   "execution_count": 71,
   "metadata": {},
   "outputs": [
    {
     "name": "stdout",
     "output_type": "stream",
     "text": [
      "serial exception on close write failed: [Errno 5] Input/output error\n",
      "\u001b[34mConnecting to --port=/dev/ttyUSB2 --baud=115200 \u001b[0m\n",
      "\u001b[34mReady.\n",
      "\u001b[0m"
     ]
    }
   ],
   "source": [
    "%serialconnect"
   ]
  },
  {
   "cell_type": "code",
   "execution_count": 42,
   "metadata": {},
   "outputs": [
    {
     "name": "stdout",
     "output_type": "stream",
     "text": [
      "Sent 30 lines (819 bytes) to UDPblackviewphone.py.\n"
     ]
    }
   ],
   "source": [
    "%sendtofile --source UDPblackviewphone.py\n"
   ]
  },
  {
   "cell_type": "code",
   "execution_count": 15,
   "metadata": {},
   "outputs": [
    {
     "name": "stdout",
     "output_type": "stream",
     "text": [
      "Sent 66 lines (2004 bytes) to ubxminimal.py.\n"
     ]
    }
   ],
   "source": [
    "%sendtofile --source UDPblackviewphone.py\n",
    "%sendtofile --source ubxminimal.py"
   ]
  },
  {
   "cell_type": "code",
   "execution_count": 42,
   "metadata": {},
   "outputs": [
    {
     "name": "stdout",
     "output_type": "stream",
     "text": [
      "Sent 1 lines (1 bytes) to deviceletter.txt.\n"
     ]
    }
   ],
   "source": [
    "%sendtofile deviceletter.txt\n",
    "C"
   ]
  },
  {
   "cell_type": "code",
   "execution_count": 14,
   "metadata": {},
   "outputs": [
    {
     "name": "stdout",
     "output_type": "stream",
     "text": [
      "serial exception on close write failed: [Errno 5] Input/output error\n",
      "\u001b[34mConnecting to --port=/dev/ttyUSB1 --baud=115200 \u001b[0m\n",
      "Traceback (most recent call last):\n",
      "  File \"main.py\", line 25, in <module>\n",
      "  File \"UDPblackviewphone.py\", line 12, in connectActivePhone\n",
      "KeyboardInterrupt: \n",
      "MicroPython v1.10 on 2019-01-25; ESP32 module with ESP32\n",
      "Type \"help()\" for more information.\n",
      ">>> \n",
      ">>> \n",
      "raw REPL; CTRL-B to exit\n",
      ">\u001b[34mReady.\n",
      "\u001b[0m"
     ]
    }
   ],
   "source": [
    "%serialconnect"
   ]
  },
  {
   "cell_type": "code",
   "execution_count": 16,
   "metadata": {},
   "outputs": [
    {
     "name": "stdout",
     "output_type": "stream",
     "text": [
      "Sent 4 lines (205 bytes) to hotspots.txt.\n"
     ]
    }
   ],
   "source": [
    "%sendtofile hotspots.txt\n",
    "\n",
    "BV6000         beckaaaa    192.168.43.1   9042\n",
    "ES_3041        43900000    192.168.43.1   9042\n",
    "AndroidAP      napz5037    192.168.43.1   9042\n",
    "DoESLiverpool  decafbad00  node-red.dynamicdevices.co.uk   4006\n"
   ]
  },
  {
   "cell_type": "code",
   "execution_count": 17,
   "metadata": {},
   "outputs": [
    {
     "name": "stdout",
     "output_type": "stream",
     "text": [
      "Sent 91 lines (2913 bytes) to main.py.\n"
     ]
    }
   ],
   "source": [
    "%sendtofile main.py\n",
    "\n",
    "import time, machine\n",
    "\n",
    "# delay long enough for Ctrl-C before the wlan bricks it for debugging\n",
    "# reset_cause=1:PWRON_RESET, 2:HARD, 5:SOFT (brownout detected)\n",
    "pled = machine.Pin(2, machine.Pin.OUT)\n",
    "for i in range(2*(machine.reset_cause())):\n",
    "    pled.value(1-(i%2))\n",
    "    time.sleep_ms(400)  \n",
    "\n",
    "# Set up flashing LED timer (better control than PWM)\n",
    "pgled = machine.Pin(23, machine.Pin.OUT)\n",
    "timeracc = 0\n",
    "timermax = 1000\n",
    "timerlight = 100\n",
    "timeradd = 50\n",
    "def timercallback(t):\n",
    "    global timeracc\n",
    "    timeracc = (timeracc + timeradd)%timermax\n",
    "    pgled.value(int(timeracc<timerlight))\n",
    "timer = machine.Timer(-1)\n",
    "timer.init(period=50, mode=machine.Timer.PERIODIC, callback=timercallback)\n",
    "\n",
    "# Serial connection to the UBlox GPS device\n",
    "from ubxminimal import uartUBX, initUBX\n",
    "initUBX()\n",
    "\n",
    "for i in range(11):\n",
    "    pled.value(i%2)\n",
    "    time.sleep_ms(200)\n",
    "\n",
    "print(\"RESET_CAUSE\", machine.reset_cause())\n",
    "deviceletter = open(\"deviceletter.txt\", \"r\").read()\n",
    "print(\"deviceletter\", deviceletter)\n",
    "\n",
    "from UDPblackviewphone import connectActivePhone\n",
    "while True:\n",
    "    androidipnumber, portnumber = connectActivePhone(pled)\n",
    "    if androidipnumber is not None:\n",
    "        break\n",
    "    for j in range(3):\n",
    "        for i in range(7):\n",
    "            pled.value(i%2)\n",
    "            time.sleep_ms(100)\n",
    "        time.sleep_ms(800)\n",
    "\n",
    "for i in range(21):\n",
    "    pled.value(i%2)\n",
    "    time.sleep_ms(80)\n",
    "\n",
    "import socket, uselect\n",
    "\n",
    "ubxbuffer = bytearray(1000)\n",
    "mubxbuffer = memoryview(ubxbuffer)\n",
    "timelastledsignal = 0\n",
    "obj = None\n",
    "while True:\n",
    "    timermax = 4000  # slow down signal to show it's broken\n",
    "    try:\n",
    "        ss = socket.socket()\n",
    "        ss.settimeout(1)\n",
    "        print(ss)\n",
    "        ss.connect(socket.getaddrinfo(androidipnumber, portnumber)[0][-1])\n",
    "        s = ss.makefile('rwb', 0)\n",
    "        print(s.readline())\n",
    "        s.write(b\"%c%c%c%c\"%(deviceletter,deviceletter,deviceletter,deviceletter))\n",
    "        poller = uselect.poll()\n",
    "        poller.register(uartUBX, uselect.POLLIN)\n",
    "        poller.register(s, uselect.POLLIN)\n",
    "        while True:\n",
    "            for obj, evt in poller.ipoll(100):\n",
    "                if obj == uartUBX and evt == uselect.POLLIN:\n",
    "                    n = uartUBX.readinto(ubxbuffer)\n",
    "                    if n is not None:\n",
    "                        s.write(mubxbuffer[:n])\n",
    "                        pled.value(1-pled.value())\n",
    "                    if time.ticks_ms() - timelastledsignal > 2000:\n",
    "                        timermax = 3000  # slow down signal to show it's broken\n",
    "\n",
    "                if obj == s and evt == uselect.POLLIN:\n",
    "                    timelastledsignal = time.ticks_ms()\n",
    "                    timermax = 1000\n",
    "                    l = s.readline()\n",
    "                    try:\n",
    "                        print(l)\n",
    "                        timeradd, timerlight = list(map(int, l.split()))\n",
    "                    except ValueError as e:\n",
    "                        print(\"ValueError\", e)\n",
    "    except OSError as e:\n",
    "        print(\"OSError\", e, obj)\n",
    "        time.sleep_ms(2000)\n",
    "\n"
   ]
  },
  {
   "cell_type": "code",
   "execution_count": 47,
   "metadata": {},
   "outputs": [
    {
     "name": "stdout",
     "output_type": "stream",
     "text": [
      "serial exception on close write failed: [Errno 5] Input/output error\n",
      "\u001b[34mConnecting to --port=/dev/ttyUSB0 --baud=115200 \u001b[0m\n",
      "\u001b[34mReady.\n",
      "\u001b[0m"
     ]
    }
   ],
   "source": [
    "%serialconnect"
   ]
  },
  {
   "cell_type": "code",
   "execution_count": 66,
   "metadata": {},
   "outputs": [],
   "source": [
    "from ubxminimal import uartUBX, initUBX\n"
   ]
  },
  {
   "cell_type": "code",
   "execution_count": 67,
   "metadata": {},
   "outputs": [
    {
     "name": "stdout",
     "output_type": "stream",
     "text": [
      "b'\\xc107,,66,26,067,14,67,09,117,,73,44,309,*60\\r\\n$GLGSV,3,2,10,74,08,339,,79,04,178,,80,45,212,,81,25,061'\n"
     ]
    }
   ],
   "source": [
    "print(uartUBX.read(100))"
   ]
  },
  {
   "cell_type": "code",
   "execution_count": 68,
   "metadata": {},
   "outputs": [],
   "source": [
    "import uselect\n",
    "pl = uselect.poll()"
   ]
  },
  {
   "cell_type": "code",
   "execution_count": 71,
   "metadata": {},
   "outputs": [],
   "source": [
    "pl.register(uartUBX, uselect.POLLIN)"
   ]
  },
  {
   "cell_type": "code",
   "execution_count": 72,
   "metadata": {},
   "outputs": [
    {
     "name": "stdout",
     "output_type": "stream",
     "text": [
      "object <poll> is of type poll\n",
      "  register -- <function>\n",
      "  unregister -- <function>\n",
      "  modify -- <function>\n",
      "  poll -- <function>\n",
      "  ipoll -- <function>\n"
     ]
    }
   ],
   "source": [
    "help(pl)"
   ]
  },
  {
   "cell_type": "code",
   "execution_count": 73,
   "metadata": {},
   "outputs": [
    {
     "name": "stdout",
     "output_type": "stream",
     "text": [
      "[(UART(1, baudrate=9600, bits=8, parity=None, stop=1, tx=17, rx=16, rts=-1, cts=-1, txbuf=256, rxbuf=256, timeout=0, timeout_char=2), 1)]\n"
     ]
    }
   ],
   "source": [
    "print(pl.poll(10))"
   ]
  },
  {
   "cell_type": "code",
   "execution_count": 70,
   "metadata": {},
   "outputs": [
    {
     "name": "stdout",
     "output_type": "stream",
     "text": [
      "object <module 'uselect'> is of type module\n",
      "  __name__ -- uselect\n",
      "  select -- <function>\n",
      "  poll -- <function>\n",
      "  POLLIN -- 1\n",
      "  POLLOUT -- 4\n",
      "  POLLERR -- 8\n",
      "  POLLHUP -- 16\n"
     ]
    }
   ],
   "source": [
    "help(uselect)"
   ]
  },
  {
   "cell_type": "code",
   "execution_count": 64,
   "metadata": {},
   "outputs": [
    {
     "name": "stdout",
     "output_type": "stream",
     "text": [
      "object <socket> is of type socket\n",
      "  __del__ -- <function>\n",
      "  close -- <function>\n",
      "  bind -- <function>\n",
      "  listen -- <function>\n",
      "  accept -- <function>\n",
      "  connect -- <function>\n",
      "  send -- <function>\n",
      "  sendall -- <function>\n",
      "  sendto -- <function>\n",
      "  recv -- <function>\n",
      "  recvfrom -- <function>\n",
      "  setsockopt -- <function>\n",
      "  settimeout -- <function>\n",
      "  setblocking -- <function>\n",
      "  makefile -- <function>\n",
      "  fileno -- <function>\n",
      "  read -- <function>\n",
      "  readinto -- <function>\n",
      "  readline -- <function>\n",
      "  write -- <function>\n"
     ]
    }
   ],
   "source": [
    "import socket\n",
    "s = socket.socket()\n",
    "help(s)"
   ]
  },
  {
   "cell_type": "code",
   "execution_count": 2,
   "metadata": {},
   "outputs": [
    {
     "name": "stdout",
     "output_type": "stream",
     "text": [
      "\u001b[34mConnecting to --port=/dev/ttyUSB1 --baud=115200 \u001b[0m\n",
      "Traceback (most recent call last):\n",
      "  File \"main.py\", line 29, in <module>\n",
      "  File \"UDPblackviewphone.py\", line 12, in connectActivePhone\n",
      "KeyboardInterrupt: \n",
      "MicroPython v1.10 on 2019-01-25; ESP32 module with ESP32\n",
      "Type \"help()\" for more information.\n",
      ">>> \n",
      ">>> \n",
      "raw REPL; CTRL-B to exit\n",
      ">\u001b[34mReady.\n",
      "\u001b[0m"
     ]
    }
   ],
   "source": [
    "%serialconnect"
   ]
  },
  {
   "cell_type": "code",
   "execution_count": 3,
   "metadata": {},
   "outputs": [],
   "source": [
    "del pgled\n",
    "p = machine.Pin(23, machine.Pin.OUT)\n",
    "p.value(1)"
   ]
  },
  {
   "cell_type": "code",
   "execution_count": null,
   "metadata": {},
   "outputs": [],
   "source": [
    "p = machine.PWM(machine.Pin(23, machine.Pin.OUT))\n",
    "p.freq(1)\n",
    "p.duty(300)\n"
   ]
  },
  {
   "cell_type": "code",
   "execution_count": 4,
   "metadata": {},
   "outputs": [
    {
     "name": "stdout",
     "output_type": "stream",
     "text": [
      "object <class 'Timer'> is of type type\n",
      "  __del__ -- <function>\n",
      "  deinit -- <function>\n",
      "  init -- <function>\n",
      "  value -- <function>\n",
      "  ONE_SHOT -- 0\n",
      "  PERIODIC -- 1\n"
     ]
    }
   ],
   "source": [
    "help(machine.Timer)"
   ]
  },
  {
   "cell_type": "code",
   "execution_count": 36,
   "metadata": {},
   "outputs": [],
   "source": [
    "timeracc = 0\n",
    "timermax = 1000\n",
    "timerlight = 500\n",
    "timeradd = 1\n",
    "def timercallback(t):\n",
    "    global timeracc\n",
    "    timeracc = (timeracc + timeradd)%timermax\n",
    "    p.value(int(timeracc<timerlight))\n",
    "\n"
   ]
  },
  {
   "cell_type": "code",
   "execution_count": 37,
   "metadata": {},
   "outputs": [],
   "source": [
    "timer.init(period=50, mode=machine.Timer.PERIODIC, callback=timercallback)"
   ]
  },
  {
   "cell_type": "code",
   "execution_count": 48,
   "metadata": {},
   "outputs": [
    {
     "name": "stdout",
     "output_type": "stream",
     "text": [
      "994\n"
     ]
    }
   ],
   "source": [
    "timeradd = 505\n",
    "print(timeracc)"
   ]
  },
  {
   "cell_type": "code",
   "execution_count": 33,
   "metadata": {},
   "outputs": [
    {
     "name": "stdout",
     "output_type": "stream",
     "text": [
      "398\n"
     ]
    }
   ],
   "source": [
    "print(timer.value())"
   ]
  },
  {
   "cell_type": "code",
   "execution_count": 34,
   "metadata": {},
   "outputs": [
    {
     "name": "stdout",
     "output_type": "stream",
     "text": [
      "object <class 'Timer'> is of type type\n",
      "  __del__ -- <function>\n",
      "  deinit -- <function>\n",
      "  init -- <function>\n",
      "  value -- <function>\n",
      "  ONE_SHOT -- 0\n",
      "  PERIODIC -- 1\n"
     ]
    }
   ],
   "source": [
    "# https://github.com/micropython/micropython-esp32/blob/2f4dac5f121a59fc187c1d9c1f9eade365b3aba1/py/mperrno.h\n",
    "# OSERROR ENFILE = 23 # File table overflow\n",
    "# OSERROR 118 (don't know)\n"
   ]
  },
  {
   "cell_type": "code",
   "execution_count": 88,
   "metadata": {},
   "outputs": [
    {
     "name": "stdout",
     "output_type": "stream",
     "text": [
      "\u001b[34mattempt to exit paste mode\n",
      "\u001b[0m\u001b[34m[\\r\\x03\\x02] \u001b[0mb'\\r\\nMicroPython v1.10 on 2019-01-25; ESP32 module with ESP32\\r\\nType \"help()\" for more information.\\r\\n>>> '\u001b[34m\n",
      "Closing serial Serial<id=0x7f5def4951d0, open=True>(port='/dev/ttyUSB0', baudrate=115200, bytesize=8, parity='N', stopbits=1, timeout=0.5, xonxoff=False, rtscts=False, dsrdtr=False)\n",
      "\u001b[0m"
     ]
    }
   ],
   "source": [
    "%disconnect"
   ]
  },
  {
   "cell_type": "code",
   "execution_count": 92,
   "metadata": {},
   "outputs": [
    {
     "name": "stdout",
     "output_type": "stream",
     "text": [
      "\u001b[34mConnecting to --port=/dev/ttyUSB0 --baud=115200 \u001b[0m\n",
      "\u001b[34mReady.\n",
      "\u001b[0m"
     ]
    }
   ],
   "source": [
    "%serialconnect"
   ]
  },
  {
   "cell_type": "code",
   "execution_count": 93,
   "metadata": {},
   "outputs": [
    {
     "name": "stdout",
     "output_type": "stream",
     "text": [
      "b'AAAA'\n"
     ]
    }
   ],
   "source": [
    "deviceletter = open(\"deviceletter.txt\", \"r\").read()\n",
    "print(b\"%c%c%c%c\"%(deviceletter,deviceletter,deviceletter,deviceletter))"
   ]
  },
  {
   "cell_type": "code",
   "execution_count": 100,
   "metadata": {},
   "outputs": [
    {
     "name": "stdout",
     "output_type": "stream",
     "text": [
      "PWM(23, freq=10, duty=700)\n"
     ]
    }
   ],
   "source": [
    "#print(s.readline())\n",
    "print(pgled)\n",
    "pgled.freq(2)\n",
    "pgled.duty(700)"
   ]
  },
  {
   "cell_type": "code",
   "execution_count": 94,
   "metadata": {},
   "outputs": [
    {
     "name": "stderr",
     "output_type": "stream",
     "text": [
      "Traceback (most recent call last):\n",
      "  File \"<stdin>\", line 2, in <module>\n",
      "OSError: [Errno 110] ETIMEDOUT\n"
     ]
    }
   ],
   "source": [
    "for i in range(20):\n",
    "    print(s.readline())"
   ]
  },
  {
   "cell_type": "code",
   "execution_count": 116,
   "metadata": {},
   "outputs": [
    {
     "name": "stdout",
     "output_type": "stream",
     "text": [
      "None\n"
     ]
    }
   ],
   "source": [
    "#s.settimeout(0)\n",
    "s.write(\"hitehrere\")\n",
    "s.settimeout(0)\n",
    "k = s.readline()\n",
    "print(k)"
   ]
  },
  {
   "cell_type": "code",
   "execution_count": null,
   "metadata": {},
   "outputs": [],
   "source": []
  },
  {
   "cell_type": "code",
   "execution_count": 1,
   "metadata": {},
   "outputs": [
    {
     "name": "stdout",
     "output_type": "stream",
     "text": [
      "\u001b[34mConnecting to --port=/dev/ttyUSB3 --baud=115200 \u001b[0m\n",
      "\u001b[34mReady.\n",
      "\u001b[0m"
     ]
    }
   ],
   "source": [
    "%serialconnect"
   ]
  },
  {
   "cell_type": "code",
   "execution_count": 3,
   "metadata": {},
   "outputs": [
    {
     "name": "stdout",
     "output_type": "stream",
     "text": [
      "None\n"
     ]
    }
   ],
   "source": [
    "# for testing UBX is wired in\n",
    "import machine\n",
    "uartUBX = machine.UART(1, baudrate=9600, rx=16, tx=17)\n",
    "print(uartUBX.read())"
   ]
  },
  {
   "cell_type": "code",
   "execution_count": 4,
   "metadata": {},
   "outputs": [
    {
     "name": "stdout",
     "output_type": "stream",
     "text": [
      "b'$GNRMC,,V,,,,,,,,,,N*4D\\r\\n'\n",
      "b'$GNVTG,,,,,,,,,N*2E\\r\\n'\n",
      "b'$GNGGA,,,,,,0,00,99.99,,,,,,*56\\r\\n'\n",
      "b'$GNGSA,A,1,,,,,,,,,,,,,99.99,99.99,99.99*2E\\r\\n'\n",
      "b'$GNGSA,A,1,,,,,,,,,,,,,99.99,99.99,99.99*2E\\r\\n'\n",
      "b'$GPGSV,1,1,00*79\\r\\n'\n",
      "b'$GLGSV,1,1,00*65\\r\\n'\n",
      "b'$GNGLL,,,,,,V,N*7A\\r\\n'\n",
      "b'$GNZDA,,,,,00,00*56\\r\\n'\n",
      "b'$GNRMC,,V,,,,,,,,,,N*4D\\r\\n'\n",
      "b'$GNVTG,,,,,,,,,N*2E\\r\\n'\n",
      "b'$GNGGA,,,,,,0,00,99.99,,,,,,*56\\r\\n'\n",
      "b'$GNGSA,A,1,,,,,,,,,,,,,99.99,99.99,99.99*,1,,,,,,,,,,,,,99.99,99.99,99.99*2E\\r\\n'\n",
      "b'$GPGSV,1,1,00*79\\r\\n'\n",
      "b'$GLGSV,1,1,00*65\\r\\n'\n",
      "b'$GNGLL,,,,,,V,N*7A\\r\\n'\n",
      "b'$GNZDA,,,,,00,00*56\\r\\n'\n"
     ]
    }
   ],
   "source": [
    "for l in uartUBX:\n",
    "    print(l)"
   ]
  },
  {
   "cell_type": "code",
   "execution_count": null,
   "metadata": {},
   "outputs": [],
   "source": [
    "%sendtofile main.py\n",
    "\n",
    "import time, machine, urandom\n",
    "\n",
    "# delay long enough to interrupt if we need to, \n",
    "# before the uart or wlan bricks it for debugging\n",
    "pled = machine.Pin(2, machine.Pin.OUT)\n",
    "for i in range(11):\n",
    "    pled.value(i%2)\n",
    "    time.sleep_ms(500)  \n",
    "\n",
    "from ubxminimal import uartUBX, initUBX\n",
    "initUBX()\n",
    "\n",
    "for i in range(11):\n",
    "    pled.value(i%2)\n",
    "    time.sleep_ms(200)\n",
    "\n",
    "deviceletter = open(\"deviceletter.txt\", \"r\").read()\n",
    "port = {\"A\":9020, \"B\":9021, \"C\":9022}[deviceletter]\n",
    "udpaddr = (\"192.168.43.1\", port)  # ip default for android\n",
    "\n",
    "from UDPblackviewphone import connectBlackview, connectS5\n",
    "if deviceletter == 'C':\n",
    "    connectS5(pled)\n",
    "else:\n",
    "    connectBlackview(pled)\n",
    "\n",
    "for i in range(11):\n",
    "    pled.value(i%2)\n",
    "    time.sleep_ms(100)\n",
    "\n",
    "\n",
    "import socket\n",
    "s = socket.socket(socket.AF_INET, socket.SOCK_DGRAM)\n",
    "s.settimeout(0.005)\n",
    "    \n",
    "ubxbuffer = bytearray(1000)\n",
    "\n",
    "# main loop\n",
    "PCudpaddr = None\n",
    "reccount = 0\n",
    "while True:\n",
    "    n = uartUBX.readinto(ubxbuffer)\n",
    "    if n is not None:\n",
    "        try:\n",
    "            s.sendto(mubxbuffer[:n+2], udpaddr)\n",
    "            if PCudpaddr is not None:\n",
    "                s.sendto(mubxbuffer[:n+2], PCudpaddr)\n",
    "        except OSError as e:\n",
    "            print(\"dwrite\", e)\n",
    "        #print(x[:5])\n",
    "        pled.value(1-pled.value())\n",
    "    else:\n",
    "        try:\n",
    "            mess, PCudpaddr = s.recvfrom(50)\n",
    "            print(mess, PCudpaddr)\n",
    "        except OSError as e:\n",
    "            pass # timeout\n",
    "\n"
   ]
  }
 ],
 "metadata": {
  "kernelspec": {
   "display_name": "MicroPython - USB",
   "language": "micropython",
   "name": "micropython"
  },
  "language_info": {
   "codemirror_mode": "python",
   "file_extension": ".py",
   "mimetype": "text/python",
   "name": "micropython"
  }
 },
 "nbformat": 4,
 "nbformat_minor": 2
}
