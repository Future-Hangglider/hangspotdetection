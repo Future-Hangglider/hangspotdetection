{
 "cells": [
  {
   "cell_type": "code",
   "execution_count": 93,
   "metadata": {},
   "outputs": [
    {
     "name": "stdout",
     "output_type": "stream",
     "text": [
      "serial exception on close write failed: [Errno 5] Input/output error\n",
      "\u001b[34mConnecting to --port=/dev/ttyUSB1 --baud=115200 \u001b[0m\n",
      "\u001b[34mReady.\n",
      "\u001b[0m"
     ]
    }
   ],
   "source": [
    "%serialconnect"
   ]
  },
  {
   "cell_type": "code",
   "execution_count": 41,
   "metadata": {},
   "outputs": [
    {
     "name": "stdout",
     "output_type": "stream",
     "text": [
      "Sent 66 lines (2004 bytes) to ubxminimal.py.\n"
     ]
    }
   ],
   "source": [
    "%sendtofile --source UDPblackviewphone.py\n",
    "%sendtofile --source ubxminimal.py"
   ]
  },
  {
   "cell_type": "code",
   "execution_count": 42,
   "metadata": {},
   "outputs": [
    {
     "name": "stdout",
     "output_type": "stream",
     "text": [
      "Sent 1 lines (1 bytes) to deviceletter.txt.\n"
     ]
    }
   ],
   "source": [
    "%sendtofile deviceletter.txt\n",
    "C"
   ]
  },
  {
   "cell_type": "code",
   "execution_count": 94,
   "metadata": {},
   "outputs": [
    {
     "name": "stdout",
     "output_type": "stream",
     "text": [
      "Sent 53 lines (1318 bytes) to main.py.\n"
     ]
    }
   ],
   "source": [
    "%sendtofile main.py\n",
    "\n",
    "import time, machine\n",
    "\n",
    "# delay long enough to interrupt if we need to, \n",
    "# before the uart or wlan bricks it for debugging\n",
    "pled = machine.Pin(2, machine.Pin.OUT)\n",
    "for i in range(11):\n",
    "    pled.value(i%2)\n",
    "    time.sleep_ms(500)  \n",
    "\n",
    "from ubxminimal import uartUBX, initUBX\n",
    "initUBX()\n",
    "\n",
    "for i in range(11):\n",
    "    pled.value(i%2)\n",
    "    time.sleep_ms(200)\n",
    "\n",
    "deviceletter = open(\"deviceletter.txt\", \"r\").read()\n",
    "print(\"deviceletter\", deviceletter)\n",
    "\n",
    "from UDPblackviewphone import connectBlackview, connectS5\n",
    "if deviceletter == 'C':\n",
    "    connectS5(pled)\n",
    "else:\n",
    "    connectBlackview(pled)\n",
    "\n",
    "for i in range(11):\n",
    "    pled.value(i%2)\n",
    "    time.sleep_ms(100)\n",
    "\n",
    "import socket\n",
    "androidipnumber = \"192.168.43.1\"\n",
    "portnumber = 9042\n",
    "\n",
    "ubxbuffer = bytearray(1000)\n",
    "mubxbuffer = memoryview(ubxbuffer)\n",
    "while True:\n",
    "    try:\n",
    "        ss = socket.socket()\n",
    "        ss.settimeout(1)\n",
    "        print(ss)\n",
    "        ss.connect(socket.getaddrinfo(androidipnumber, portnumber)[0][-1])\n",
    "        s = ss.makefile('rwb', 0)\n",
    "        print(s.readline())\n",
    "        s.write(b\"%c%c%c%c\"%(deviceletter,deviceletter,deviceletter,deviceletter))\n",
    "        while True:\n",
    "            n = uartUBX.readinto(ubxbuffer)\n",
    "            if n is not None:\n",
    "                s.write(mubxbuffer[:n])\n",
    "                pled.value(1-pled.value())\n",
    "            else:\n",
    "                time.sleep_ms(5)\n",
    "    except OSError as e:\n",
    "        print(\"OSError\", e)\n",
    "\n"
   ]
  },
  {
   "cell_type": "code",
   "execution_count": 88,
   "metadata": {},
   "outputs": [
    {
     "name": "stdout",
     "output_type": "stream",
     "text": [
      "\u001b[34mattempt to exit paste mode\n",
      "\u001b[0m\u001b[34m[\\r\\x03\\x02] \u001b[0mb'\\r\\nMicroPython v1.10 on 2019-01-25; ESP32 module with ESP32\\r\\nType \"help()\" for more information.\\r\\n>>> '\u001b[34m\n",
      "Closing serial Serial<id=0x7f5def4951d0, open=True>(port='/dev/ttyUSB0', baudrate=115200, bytesize=8, parity='N', stopbits=1, timeout=0.5, xonxoff=False, rtscts=False, dsrdtr=False)\n",
      "\u001b[0m"
     ]
    }
   ],
   "source": [
    "%disconnect"
   ]
  },
  {
   "cell_type": "code",
   "execution_count": 75,
   "metadata": {},
   "outputs": [
    {
     "name": "stdout",
     "output_type": "stream",
     "text": [
      "serial exception on close write failed: [Errno 5] Input/output error\n",
      "\u001b[34mConnecting to --port=/dev/ttyUSB0 --baud=115200 \u001b[0m\n",
      "\u001b[34mReady.\n",
      "\u001b[0m"
     ]
    }
   ],
   "source": [
    "%serialconnect"
   ]
  },
  {
   "cell_type": "code",
   "execution_count": 79,
   "metadata": {},
   "outputs": [
    {
     "name": "stdout",
     "output_type": "stream",
     "text": [
      "."
     ]
    }
   ],
   "source": [
    "deviceletter = open(\"deviceletter.txt\", \"r\").read()\n",
    "from UDPblackviewphone import connectBlackview, connectS5\n",
    "if deviceletter == 'C':\n",
    "    connectS5(pled)\n",
    "else:\n",
    "    connectBlackview(pled)\n"
   ]
  },
  {
   "cell_type": "code",
   "execution_count": 86,
   "metadata": {},
   "outputs": [
    {
     "name": "stdout",
     "output_type": "stream",
     "text": [
      "b'CCCC'\n"
     ]
    }
   ],
   "source": [
    "print(b\"%c%c%c%c\"%(deviceletter,deviceletter,deviceletter,deviceletter))"
   ]
  },
  {
   "cell_type": "code",
   "execution_count": 80,
   "metadata": {},
   "outputs": [
    {
     "name": "stdout",
     "output_type": "stream",
     "text": [
      "<socket>\n",
      "..."
     ]
    },
    {
     "name": "stderr",
     "output_type": "stream",
     "text": [
      "Traceback (most recent call last):\n",
      "  File \"<stdin>\", line 7, in <module>\n",
      "OSError: [Errno 113] EHOSTUNREACH\n"
     ]
    }
   ],
   "source": [
    "import socket, time\n",
    "ss = socket.socket()\n",
    "androidipnumber = \"192.168.43.1\"\n",
    "portnumber = 9042\n",
    "ss.settimeout(1)\n",
    "print(ss)\n",
    "ss.connect(socket.getaddrinfo(androidipnumber, portnumber)[0][-1])\n",
    "print(ss)"
   ]
  },
  {
   "cell_type": "code",
   "execution_count": 83,
   "metadata": {},
   "outputs": [
    {
     "name": "stdout",
     "output_type": "stream",
     "text": [
      "128\n"
     ]
    }
   ],
   "source": [
    "try:\n",
    "    ss.connect(socket.getaddrinfo(androidipnumber, portnumber)[0][-1])\n",
    "except OSError as e:\n",
    "    print(\"OSError\", e)"
   ]
  },
  {
   "cell_type": "code",
   "execution_count": 84,
   "metadata": {},
   "outputs": [
    {
     "name": "stderr",
     "output_type": "stream",
     "text": [
      "Traceback (most recent call last):\n",
      "  File \"<stdin>\", line 1, in <module>\n",
      "OSError: 128\n"
     ]
    }
   ],
   "source": [
    "ss.connect(socket.getaddrinfo(androidipnumber, portnumber)[0][-1])\n"
   ]
  },
  {
   "cell_type": "code",
   "execution_count": 73,
   "metadata": {},
   "outputs": [
    {
     "name": "stdout",
     "output_type": "stream",
     "text": [
      ".\n",
      "[missing-OK]\n",
      "[missing-OK]"
     ]
    },
    {
     "name": "stderr",
     "output_type": "stream",
     "text": [
      "Traceback (most recent call last):\n"
     ]
    },
    {
     "name": "stdout",
     "output_type": "stream",
     "text": [
      "\n",
      "[missing-OK]"
     ]
    },
    {
     "name": "stderr",
     "output_type": "stream",
     "text": [
      "  File \"<stdin>"
     ]
    },
    {
     "name": "stdout",
     "output_type": "stream",
     "text": [
      "\n",
      "[missing-OK]"
     ]
    },
    {
     "name": "stderr",
     "output_type": "stream",
     "text": [
      "\", line 5, in <module>\n"
     ]
    },
    {
     "name": "stdout",
     "output_type": "stream",
     "text": [
      "\n",
      "[missing-OK]"
     ]
    },
    {
     "name": "stderr",
     "output_type": "stream",
     "text": [
      "OSError: [Errno 113] EHOSTUNREACH\n"
     ]
    },
    {
     "name": "stdout",
     "output_type": "stream",
     "text": [
      "\n",
      "[missing-OK]"
     ]
    },
    {
     "name": "stderr",
     "output_type": "stream",
     "text": [
      ">"
     ]
    },
    {
     "name": "stdout",
     "output_type": "stream",
     "text": [
      "\n",
      "\n",
      "[Late OK]\n",
      "\n"
     ]
    },
    {
     "name": "stderr",
     "output_type": "stream",
     "text": [
      "<socket"
     ]
    }
   ],
   "source": [
    "s = ss.makefile('rwb', 0)  # convert socket into an io stream\n",
    "print(s)"
   ]
  },
  {
   "cell_type": "code",
   "execution_count": 76,
   "metadata": {},
   "outputs": [
    {
     "name": "stderr",
     "output_type": "stream",
     "text": [
      "Traceback (most recent call last):\n",
      "  File \"<stdin>\", line 1, in <module>\n",
      "NameError: name 's' isn't defined\n"
     ]
    }
   ],
   "source": [
    "print(s.readline())"
   ]
  },
  {
   "cell_type": "code",
   "execution_count": 49,
   "metadata": {},
   "outputs": [],
   "source": [
    "s.write(b\"AAAA11111\")"
   ]
  },
  {
   "cell_type": "code",
   "execution_count": 21,
   "metadata": {},
   "outputs": [],
   "source": [
    "s1 = s"
   ]
  },
  {
   "cell_type": "code",
   "execution_count": 61,
   "metadata": {},
   "outputs": [],
   "source": [
    "for i in range(100):\n",
    "    s1.write(b\"hhhh\")"
   ]
  },
  {
   "cell_type": "code",
   "execution_count": 71,
   "metadata": {},
   "outputs": [
    {
     "name": "stdout",
     "output_type": "stream",
     "text": [
      "b''\n"
     ]
    }
   ],
   "source": [
    "print(s1.read())"
   ]
  },
  {
   "cell_type": "code",
   "execution_count": 70,
   "metadata": {},
   "outputs": [
    {
     "name": "stderr",
     "output_type": "stream",
     "text": [
      "Traceback (most recent call last):\n",
      "  File \"<stdin>\", line 2, in <module>\n",
      "OSError: 128\n"
     ]
    }
   ],
   "source": [
    "ss = socket.socket()\n",
    "ss.write(b\"jj\")"
   ]
  },
  {
   "cell_type": "code",
   "execution_count": null,
   "metadata": {},
   "outputs": [],
   "source": [
    "# This is all that's required to connect - when the ESP is hanging on s.accept()\n",
    "ss.connect(socket.getaddrinfo(androidipnumber, portnumber)[0][-1])\n",
    "ss = s.makefile('rwb', 0)  # convert socket into an io stream\n"
   ]
  },
  {
   "cell_type": "code",
   "execution_count": 188,
   "metadata": {},
   "outputs": [
    {
     "name": "stdout",
     "output_type": "stream",
     "text": [
      "\u001b[34m\n",
      "\n",
      "*** Sending Ctrl-C\n",
      "\n",
      "\u001b[0m"
     ]
    },
    {
     "name": "stderr",
     "output_type": "stream",
     "text": [
      "Traceback (most recent call last):\n",
      "  File \"<stdin>\", line 2, in <module>\n",
      "KeyboardInterrupt: \n"
     ]
    }
   ],
   "source": [
    "print(ss.readline())"
   ]
  },
  {
   "cell_type": "code",
   "execution_count": null,
   "metadata": {},
   "outputs": [],
   "source": [
    "import socket\n",
    "s = socket.socket(socket.AF_INET, socket.SOCK_DGRAM)\n",
    "s.settimeout(0.005)\n",
    "    \n"
   ]
  },
  {
   "cell_type": "code",
   "execution_count": 163,
   "metadata": {},
   "outputs": [
    {
     "name": "stdout",
     "output_type": "stream",
     "text": [
      "."
     ]
    }
   ],
   "source": [
    "\n",
    "from ubxminimal import uartUBX, initUBX\n",
    "initUBX()\n"
   ]
  },
  {
   "cell_type": "code",
   "execution_count": 168,
   "metadata": {},
   "outputs": [],
   "source": [
    "ubxbuffer = bytearray(1000)\n",
    "mubxbuffer = memoryview(ubxbuffer)\n",
    "mubxbuffer2 = mubxbuffer[2:]"
   ]
  },
  {
   "cell_type": "code",
   "execution_count": 180,
   "metadata": {},
   "outputs": [
    {
     "name": "stdout",
     "output_type": "stream",
     "text": [
      "0 328\n",
      "1 None\n",
      "2 None\n",
      "3 None\n",
      "4 None\n",
      "5 None\n",
      "6 None\n",
      "7 None\n",
      "8 None\n",
      "9 None\n",
      "10 None\n",
      "11 None\n",
      "12 None\n",
      "13 None\n",
      "14 None\n",
      "15 None\n",
      "16 None\n",
      "17 None\n",
      "18 None\n",
      "19 120\n",
      "20 None\n",
      "21 None\n",
      "22 None\n",
      "23 None\n",
      "24 None\n",
      "25 None\n",
      "26 38\n",
      "27 None\n",
      "28 None\n",
      "29 None\n",
      "30 None\n",
      "31 None\n",
      "32 None\n",
      "33 None\n",
      "34 None\n",
      "35 None\n",
      "36 None\n",
      "37 None\n",
      "38 None\n",
      "39 None\n",
      "40 None\n",
      "41 None\n",
      "42 None\n",
      "43 None\n",
      "44 None\n",
      "45 None\n",
      "46 None\n",
      "47 None\n",
      "48 None\n",
      "49 None\n"
     ]
    }
   ],
   "source": [
    "ubxbuffer[0] = 0xff\n",
    "for i in range(50):\n",
    "    k = uartUBX.readinto(mubxbuffer[2:])\n",
    "    print(i, k)"
   ]
  },
  {
   "cell_type": "code",
   "execution_count": null,
   "metadata": {},
   "outputs": [],
   "source": []
  },
  {
   "cell_type": "code",
   "execution_count": null,
   "metadata": {},
   "outputs": [],
   "source": []
  },
  {
   "cell_type": "code",
   "execution_count": null,
   "metadata": {},
   "outputs": [],
   "source": []
  },
  {
   "cell_type": "code",
   "execution_count": null,
   "metadata": {},
   "outputs": [],
   "source": []
  },
  {
   "cell_type": "code",
   "execution_count": 51,
   "metadata": {},
   "outputs": [
    {
     "name": "stdout",
     "output_type": "stream",
     "text": [
      "serial exception on close write failed: [Errno 5] Input/output error\n",
      "\u001b[34mConnecting to --port=/dev/ttyUSB1 --baud=115200 \u001b[0m\n",
      "\u001b[34mReady.\n",
      "\u001b[0m"
     ]
    }
   ],
   "source": [
    "%serialconnect"
   ]
  },
  {
   "cell_type": "code",
   "execution_count": 34,
   "metadata": {},
   "outputs": [
    {
     "name": "stdout",
     "output_type": "stream",
     "text": [
      "['boot.py', 'ubxutils.py', 'UDPsocket_funcs.py', 'main.py', 'UDPblackviewphone.py', 'ubxminimal.py', 'deviceletter.txt']\n"
     ]
    }
   ],
   "source": [
    "import os\n",
    "print(os.listdir())"
   ]
  },
  {
   "cell_type": "code",
   "execution_count": 35,
   "metadata": {},
   "outputs": [
    {
     "name": "stdout",
     "output_type": "stream",
     "text": [
      "['B']\n"
     ]
    }
   ],
   "source": [
    "deviceletter = open(\"deviceletter.txt\", \"r\").read()\n",
    "print([deviceletter])"
   ]
  },
  {
   "cell_type": "code",
   "execution_count": 52,
   "metadata": {},
   "outputs": [
    {
     "name": "stdout",
     "output_type": "stream",
     "text": [
      "None\n"
     ]
    }
   ],
   "source": [
    "\n",
    "# test UBX\n",
    "import machine\n",
    "uartUBX = machine.UART(1, baudrate=9600, rx=16, tx=17)\n",
    "print(uartUBX.read())"
   ]
  },
  {
   "cell_type": "code",
   "execution_count": 55,
   "metadata": {},
   "outputs": [
    {
     "name": "stdout",
     "output_type": "stream",
     "text": [
      "b',99.99,,,,,,*77\\r\\n'\n",
      "b'$GNGSA,A,1,,,,,,,,,,,,,99.99,99.99,99.99*2E\\r\\n'\n",
      "b'$GNGSA,A,1,,,,,,,,,,,,,99.99,99.99,99.99*2E\\r\\n'\n",
      "b'$GPGSV,4,1,14,01,07,005,12,10,29,277,09,12,51,206,13,13,07,142,*7B\\r\\n'\n",
      "b'$GPGSV,4,2,14,14,03,314,,15,33,165,,17,30,055,08,18,01,339,*70\\r\\n'\n",
      "b'$GPGSV,4,3,14,19,35,086,,20,18,248,19,24,83,110,,25,17,222,08*70\\r\\n'\n",
      "b'$GPGSV,4,4,14,28,00,047,16,32,17,312,*75\\r\\n'\n",
      "b'$GLGSV,3,1,0920,18,248,08,24,83,110,,25,17,222,11*71\\r\\n'\n",
      "b'$GPGSV,4,4,14,28,00,047,08,32,17,312,*7A\\r\\n'\n",
      "b'$GLGSV,3,1,09,66,35,202,,67,55,281,,6'\n"
     ]
    }
   ],
   "source": [
    "for l in uartUBX:\n",
    "    print(l)"
   ]
  },
  {
   "cell_type": "code",
   "execution_count": null,
   "metadata": {},
   "outputs": [],
   "source": [
    "%sendtofile main.py\n",
    "\n",
    "import time, machine, urandom\n",
    "\n",
    "# delay long enough to interrupt if we need to, \n",
    "# before the uart or wlan bricks it for debugging\n",
    "pled = machine.Pin(2, machine.Pin.OUT)\n",
    "for i in range(11):\n",
    "    pled.value(i%2)\n",
    "    time.sleep_ms(500)  \n",
    "\n",
    "from ubxminimal import uartUBX, initUBX\n",
    "initUBX()\n",
    "\n",
    "for i in range(11):\n",
    "    pled.value(i%2)\n",
    "    time.sleep_ms(200)\n",
    "\n",
    "deviceletter = open(\"deviceletter.txt\", \"r\").read()\n",
    "port = {\"A\":9020, \"B\":9021, \"C\":9022}[deviceletter]\n",
    "udpaddr = (\"192.168.43.1\", port)  # ip default for android\n",
    "\n",
    "from UDPblackviewphone import connectBlackview, connectS5\n",
    "if deviceletter == 'C':\n",
    "    connectS5(pled)\n",
    "else:\n",
    "    connectBlackview(pled)\n",
    "\n",
    "for i in range(11):\n",
    "    pled.value(i%2)\n",
    "    time.sleep_ms(100)\n",
    "\n",
    "\n",
    "import socket\n",
    "s = socket.socket(socket.AF_INET, socket.SOCK_DGRAM)\n",
    "s.settimeout(0.005)\n",
    "    \n",
    "ubxbuffer = bytearray(1000)\n",
    "\n",
    "# main loop\n",
    "PCudpaddr = None\n",
    "reccount = 0\n",
    "while True:\n",
    "    n = uartUBX.readinto(ubxbuffer)\n",
    "    if n is not None:\n",
    "        try:\n",
    "            s.sendto(mubxbuffer[:n+2], udpaddr)\n",
    "            if PCudpaddr is not None:\n",
    "                s.sendto(mubxbuffer[:n+2], PCudpaddr)\n",
    "        except OSError as e:\n",
    "            print(\"dwrite\", e)\n",
    "        #print(x[:5])\n",
    "        pled.value(1-pled.value())\n",
    "    else:\n",
    "        try:\n",
    "            mess, PCudpaddr = s.recvfrom(50)\n",
    "            print(mess, PCudpaddr)\n",
    "        except OSError as e:\n",
    "            pass # timeout\n",
    "\n"
   ]
  }
 ],
 "metadata": {
  "kernelspec": {
   "display_name": "MicroPython - USB",
   "language": "micropython",
   "name": "micropython"
  },
  "language_info": {
   "codemirror_mode": "python",
   "file_extension": ".py",
   "mimetype": "text/python",
   "name": "micropython"
  }
 },
 "nbformat": 4,
 "nbformat_minor": 2
}
