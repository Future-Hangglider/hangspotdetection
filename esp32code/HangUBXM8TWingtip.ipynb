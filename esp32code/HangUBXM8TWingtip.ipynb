{
 "cells": [
  {
   "cell_type": "code",
   "execution_count": 60,
   "metadata": {},
   "outputs": [
    {
     "name": "stdout",
     "output_type": "stream",
     "text": [
      "serial exception on close write failed: [Errno 5] Input/output error\n",
      "\u001b[34mConnecting to --port=/dev/ttyUSB0 --baud=115200 \u001b[0m\n",
      "\u001b[34mReady.\n",
      "\u001b[0m"
     ]
    }
   ],
   "source": [
    "%serialconnect"
   ]
  },
  {
   "cell_type": "code",
   "execution_count": 61,
   "metadata": {},
   "outputs": [
    {
     "name": "stdout",
     "output_type": "stream",
     "text": [
      "Sent 65 lines (1965 bytes) to ubxminimal.py.\n"
     ]
    }
   ],
   "source": [
    "%sendtofile --source UDPblackviewphone.py\n",
    "%sendtofile --source ubxminimal.py"
   ]
  },
  {
   "cell_type": "code",
   "execution_count": 62,
   "metadata": {},
   "outputs": [
    {
     "name": "stdout",
     "output_type": "stream",
     "text": [
      "Sent 33 lines (659 bytes) to main.py.\n"
     ]
    }
   ],
   "source": [
    "%sendtofile main.py\n",
    "\n",
    "import time, machine, urandom\n",
    "\n",
    "# delay long enough to interrupt if we need to, \n",
    "# before the uart or wlan bricks it for debugging\n",
    "pled = machine.Pin(2, machine.Pin.OUT)\n",
    "for i in range(11):\n",
    "    pled.value(i%2)\n",
    "    time.sleep_ms(500)  \n",
    "\n",
    "from ubxminimal import uartUBX, initUBX\n",
    "initUBX()\n",
    "\n",
    "from UDPblackviewphone import dwrite, dwriteUBX, connectBlackview\n",
    "\n",
    "for i in range(11):\n",
    "    pled.value(i%2)\n",
    "    time.sleep_ms(200)\n",
    "\n",
    "connectBlackview(pled)\n",
    "\n",
    "for i in range(11):\n",
    "    pled.value(i%2)\n",
    "    time.sleep_ms(100)\n",
    "\n",
    "while True:\n",
    "    x = uartUBX.read()\n",
    "    if x:\n",
    "        dwriteUBX(x)\n",
    "        print(x[:5])\n",
    "    else:\n",
    "        time.sleep_ms(5)\n",
    "    pled.value(1-pled.value())\n",
    "\n"
   ]
  },
  {
   "cell_type": "code",
   "execution_count": 40,
   "metadata": {},
   "outputs": [
    {
     "name": "stdout",
     "output_type": "stream",
     "text": [
      "\u001b[34mattempt to exit paste mode\n",
      "\u001b[0m\u001b[34m[\\r\\x03\\x02] \u001b[0mb'\\r\\nMicroPython v1.9.4-782-geb446ec22 on 2019-01-22; ESP module with ESP8266\\r\\nType \"help()\" for more information.\\r\\n>>> '\u001b[34m\n",
      "Closing serial Serial<id=0x7faa019dd208, open=True>(port='/dev/ttyUSB2', baudrate=115200, bytesize=8, parity='N', stopbits=1, timeout=0.5, xonxoff=False, rtscts=False, dsrdtr=False)\n",
      "\u001b[0m"
     ]
    }
   ],
   "source": [
    "%disconnect"
   ]
  },
  {
   "cell_type": "code",
   "execution_count": null,
   "metadata": {},
   "outputs": [],
   "source": []
  }
 ],
 "metadata": {
  "kernelspec": {
   "display_name": "MicroPython - USB",
   "language": "micropython",
   "name": "micropython"
  },
  "language_info": {
   "codemirror_mode": "python",
   "file_extension": ".py",
   "mimetype": "text/python",
   "name": "micropython"
  }
 },
 "nbformat": 4,
 "nbformat_minor": 2
}
