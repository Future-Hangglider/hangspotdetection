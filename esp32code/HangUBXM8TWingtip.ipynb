{
 "cells": [
  {
   "cell_type": "code",
   "execution_count": 147,
   "metadata": {},
   "outputs": [
    {
     "name": "stdout",
     "output_type": "stream",
     "text": [
      "\u001b[34mConnecting to --port=/dev/ttyUSB0 --baud=115200 \u001b[0m\n",
      "\u001b[34mReady.\n",
      "\u001b[0m"
     ]
    }
   ],
   "source": [
    "%serialconnect"
   ]
  },
  {
   "cell_type": "code",
   "execution_count": 41,
   "metadata": {},
   "outputs": [
    {
     "name": "stdout",
     "output_type": "stream",
     "text": [
      "Sent 66 lines (2004 bytes) to ubxminimal.py.\n"
     ]
    }
   ],
   "source": [
    "%sendtofile --source UDPblackviewphone.py\n",
    "%sendtofile --source ubxminimal.py"
   ]
  },
  {
   "cell_type": "code",
   "execution_count": 42,
   "metadata": {},
   "outputs": [
    {
     "name": "stdout",
     "output_type": "stream",
     "text": [
      "Sent 1 lines (1 bytes) to deviceletter.txt.\n"
     ]
    }
   ],
   "source": [
    "%sendtofile deviceletter.txt\n",
    "C"
   ]
  },
  {
   "cell_type": "code",
   "execution_count": 181,
   "metadata": {},
   "outputs": [
    {
     "name": "stdout",
     "output_type": "stream",
     "text": [
      "Sent 64 lines (1521 bytes) to main.py.\n"
     ]
    }
   ],
   "source": [
    "%sendtofile main.py\n",
    "\n",
    "import time, machine, urandom\n",
    "\n",
    "# delay long enough to interrupt if we need to, \n",
    "# before the uart or wlan bricks it for debugging\n",
    "pled = machine.Pin(2, machine.Pin.OUT)\n",
    "for i in range(11):\n",
    "    pled.value(i%2)\n",
    "    time.sleep_ms(500)  \n",
    "\n",
    "\n",
    "from ubxminimal import uartUBX, initUBX\n",
    "initUBX()\n",
    "\n",
    "for i in range(11):\n",
    "    pled.value(i%2)\n",
    "    time.sleep_ms(200)\n",
    "\n",
    "\n",
    "deviceletter = open(\"deviceletter.txt\", \"r\").read()\n",
    "port = {\"A\":9020, \"B\":9021, \"C\":9022}[deviceletter]\n",
    "udpaddr = (\"192.168.43.1\", port)  # ip default for android\n",
    "\n",
    "from UDPblackviewphone import connectBlackview, connectS5\n",
    "if deviceletter == 'C':\n",
    "    connectS5(pled)\n",
    "else:\n",
    "    connectBlackview(pled)\n",
    "\n",
    "for i in range(11):\n",
    "    pled.value(i%2)\n",
    "    time.sleep_ms(100)\n",
    "\n",
    "\n",
    "import socket\n",
    "s = socket.socket(socket.AF_INET, socket.SOCK_DGRAM)\n",
    "s.settimeout(0.005)\n",
    "    \n",
    "ubxbuffer = bytearray(1000)\n",
    "mubxbuffer = memoryview(ubxbuffer)\n",
    "\n",
    "# main loop\n",
    "PCudpaddr = None\n",
    "reccount = 0\n",
    "while True:\n",
    "    n = uartUBX.readinto(mubxbuffer[2:])\n",
    "    if n is not None:\n",
    "        ubxbuffer[0] = reccount&0xFF\n",
    "        ubxbuffer[1] = (reccount>>8)&0xFF\n",
    "        reccount += 1\n",
    "        try:\n",
    "            s.sendto(mubxbuffer[:n+2], udpaddr)\n",
    "            if PCudpaddr is not None:\n",
    "                s.sendto(mubxbuffer[:n+2], PCudpaddr)\n",
    "        except OSError as e:\n",
    "            print(\"dwrite\", e)\n",
    "        #print(x[:5])\n",
    "        pled.value(1-pled.value())\n",
    "    else:\n",
    "        try:\n",
    "            mess, PCudpaddr = s.recvfrom(50)\n",
    "            print(mess, PCudpaddr)\n",
    "        except OSError as e:\n",
    "            pass # timeout\n",
    "\n"
   ]
  },
  {
   "cell_type": "code",
   "execution_count": 163,
   "metadata": {},
   "outputs": [
    {
     "name": "stdout",
     "output_type": "stream",
     "text": [
      "."
     ]
    }
   ],
   "source": [
    "\n",
    "from ubxminimal import uartUBX, initUBX\n",
    "initUBX()\n"
   ]
  },
  {
   "cell_type": "code",
   "execution_count": 168,
   "metadata": {},
   "outputs": [],
   "source": [
    "ubxbuffer = bytearray(1000)\n",
    "mubxbuffer = memoryview(ubxbuffer)\n",
    "mubxbuffer2 = mubxbuffer[2:]"
   ]
  },
  {
   "cell_type": "code",
   "execution_count": 180,
   "metadata": {},
   "outputs": [
    {
     "name": "stdout",
     "output_type": "stream",
     "text": [
      "0 328\n",
      "1 None\n",
      "2 None\n",
      "3 None\n",
      "4 None\n",
      "5 None\n",
      "6 None\n",
      "7 None\n",
      "8 None\n",
      "9 None\n",
      "10 None\n",
      "11 None\n",
      "12 None\n",
      "13 None\n",
      "14 None\n",
      "15 None\n",
      "16 None\n",
      "17 None\n",
      "18 None\n",
      "19 120\n",
      "20 None\n",
      "21 None\n",
      "22 None\n",
      "23 None\n",
      "24 None\n",
      "25 None\n",
      "26 38\n",
      "27 None\n",
      "28 None\n",
      "29 None\n",
      "30 None\n",
      "31 None\n",
      "32 None\n",
      "33 None\n",
      "34 None\n",
      "35 None\n",
      "36 None\n",
      "37 None\n",
      "38 None\n",
      "39 None\n",
      "40 None\n",
      "41 None\n",
      "42 None\n",
      "43 None\n",
      "44 None\n",
      "45 None\n",
      "46 None\n",
      "47 None\n",
      "48 None\n",
      "49 None\n"
     ]
    }
   ],
   "source": [
    "ubxbuffer[0] = 0xff\n",
    "for i in range(50):\n",
    "    k = uartUBX.readinto(mubxbuffer[2:])\n",
    "    print(i, k)"
   ]
  },
  {
   "cell_type": "code",
   "execution_count": null,
   "metadata": {},
   "outputs": [],
   "source": []
  },
  {
   "cell_type": "code",
   "execution_count": null,
   "metadata": {},
   "outputs": [],
   "source": []
  },
  {
   "cell_type": "code",
   "execution_count": null,
   "metadata": {},
   "outputs": [],
   "source": []
  },
  {
   "cell_type": "code",
   "execution_count": null,
   "metadata": {},
   "outputs": [],
   "source": []
  },
  {
   "cell_type": "code",
   "execution_count": 51,
   "metadata": {},
   "outputs": [
    {
     "name": "stdout",
     "output_type": "stream",
     "text": [
      "serial exception on close write failed: [Errno 5] Input/output error\n",
      "\u001b[34mConnecting to --port=/dev/ttyUSB1 --baud=115200 \u001b[0m\n",
      "\u001b[34mReady.\n",
      "\u001b[0m"
     ]
    }
   ],
   "source": [
    "%serialconnect"
   ]
  },
  {
   "cell_type": "code",
   "execution_count": 34,
   "metadata": {},
   "outputs": [
    {
     "name": "stdout",
     "output_type": "stream",
     "text": [
      "['boot.py', 'ubxutils.py', 'UDPsocket_funcs.py', 'main.py', 'UDPblackviewphone.py', 'ubxminimal.py', 'deviceletter.txt']\n"
     ]
    }
   ],
   "source": [
    "import os\n",
    "print(os.listdir())"
   ]
  },
  {
   "cell_type": "code",
   "execution_count": 35,
   "metadata": {},
   "outputs": [
    {
     "name": "stdout",
     "output_type": "stream",
     "text": [
      "['B']\n"
     ]
    }
   ],
   "source": [
    "deviceletter = open(\"deviceletter.txt\", \"r\").read()\n",
    "print([deviceletter])"
   ]
  },
  {
   "cell_type": "code",
   "execution_count": 52,
   "metadata": {},
   "outputs": [
    {
     "name": "stdout",
     "output_type": "stream",
     "text": [
      "None\n"
     ]
    }
   ],
   "source": [
    "\n",
    "# test UBX\n",
    "import machine\n",
    "uartUBX = machine.UART(1, baudrate=9600, rx=16, tx=17)\n",
    "print(uartUBX.read())"
   ]
  },
  {
   "cell_type": "code",
   "execution_count": 55,
   "metadata": {},
   "outputs": [
    {
     "name": "stdout",
     "output_type": "stream",
     "text": [
      "b',99.99,,,,,,*77\\r\\n'\n",
      "b'$GNGSA,A,1,,,,,,,,,,,,,99.99,99.99,99.99*2E\\r\\n'\n",
      "b'$GNGSA,A,1,,,,,,,,,,,,,99.99,99.99,99.99*2E\\r\\n'\n",
      "b'$GPGSV,4,1,14,01,07,005,12,10,29,277,09,12,51,206,13,13,07,142,*7B\\r\\n'\n",
      "b'$GPGSV,4,2,14,14,03,314,,15,33,165,,17,30,055,08,18,01,339,*70\\r\\n'\n",
      "b'$GPGSV,4,3,14,19,35,086,,20,18,248,19,24,83,110,,25,17,222,08*70\\r\\n'\n",
      "b'$GPGSV,4,4,14,28,00,047,16,32,17,312,*75\\r\\n'\n",
      "b'$GLGSV,3,1,0920,18,248,08,24,83,110,,25,17,222,11*71\\r\\n'\n",
      "b'$GPGSV,4,4,14,28,00,047,08,32,17,312,*7A\\r\\n'\n",
      "b'$GLGSV,3,1,09,66,35,202,,67,55,281,,6'\n"
     ]
    }
   ],
   "source": [
    "for l in uartUBX:\n",
    "    print(l)"
   ]
  },
  {
   "cell_type": "code",
   "execution_count": null,
   "metadata": {},
   "outputs": [],
   "source": []
  }
 ],
 "metadata": {
  "kernelspec": {
   "display_name": "MicroPython - USB",
   "language": "micropython",
   "name": "micropython"
  },
  "language_info": {
   "codemirror_mode": "python",
   "file_extension": ".py",
   "mimetype": "text/python",
   "name": "micropython"
  }
 },
 "nbformat": 4,
 "nbformat_minor": 2
}
