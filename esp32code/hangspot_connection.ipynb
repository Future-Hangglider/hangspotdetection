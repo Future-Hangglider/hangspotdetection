{
 "cells": [
  {
   "cell_type": "code",
   "execution_count": 2,
   "metadata": {},
   "outputs": [
    {
     "name": "stdout",
     "output_type": "stream",
     "text": [
      "\u001b[34mConnecting to --port=/dev/ttyUSB3 --baud=115200 \u001b[0m\n",
      "\u001b[34mReady.\n",
      "\u001b[0m"
     ]
    }
   ],
   "source": [
    "%serialconnect "
   ]
  },
  {
   "cell_type": "code",
   "execution_count": 3,
   "metadata": {},
   "outputs": [
    {
     "name": "stdout",
     "output_type": "stream",
     "text": [
      "30aea44cb0b4\n",
      "> auth (b0)\n",
      "> assoc (0)\n",
      "> run (10)\n",
      "> auth (2c0)\n",
      "> auth (b0)\n",
      "> assoc (0)\n",
      "> run (10)\n",
      "Device has ipnumber 192.168.0.25\n"
     ]
    }
   ],
   "source": [
    "import network\n",
    "\n",
    "si = network.WLAN(network.STA_IF)\n",
    "macaddress = \"\".join(\"{:02x}\".format(x)  for x in si.config(\"mac\"))\n",
    "si.active(True)\n",
    "print(macaddress)\n",
    "\n",
    "si.connect(\"hangspot\", \"bubblino\")\n",
    "while not si.isconnected():\n",
    "    pass\n",
    "ipnumber = si.ifconfig()[0] \n",
    "print(\"Device has ipnumber\", ipnumber)"
   ]
  },
  {
   "cell_type": "code",
   "execution_count": 4,
   "metadata": {
    "collapsed": true
   },
   "outputs": [],
   "source": [
    "import socket\n",
    "s = socket.socket(socket.AF_INET, socket.SOCK_DGRAM)\n",
    "s.settimeout(3)\n",
    "port = 8399"
   ]
  },
  {
   "cell_type": "code",
   "execution_count": 7,
   "metadata": {
    "collapsed": true
   },
   "outputs": [],
   "source": [
    "s.sendto(b\"hithere99\", (\"192.168.0.10\", port))\n"
   ]
  },
  {
   "cell_type": "code",
   "execution_count": 5,
   "metadata": {},
   "outputs": [
    {
     "name": "stdout",
     "output_type": "stream",
     "text": [
      ".\u001b[34m\n",
      "\n",
      "*** Sending Ctrl-C\n",
      "\n",
      "\u001b[0m"
     ]
    },
    {
     "name": "stderr",
     "output_type": "stream",
     "text": [
      "Traceback (most recent call last):\n",
      "  File \"<stdin>\", line 18, in <module>\n",
      "  File \"<stdin>\", line 16, in <module>\n",
      "KeyboardInterrupt: \n"
     ]
    }
   ],
   "source": [
    "from OLED_driver import i2c, fbuff, oledshow, doublepixels, fatntext, oledshowfattext\n",
    "\n",
    "n = 0\n",
    "t0 = 0\n",
    "t100 = 0\n",
    "dt100 = 0\n",
    "gx0 = 0\n",
    "gy0 = 0\n",
    "dtmax = 0\n",
    "while True:\n",
    "    if (n%10) == 0:\n",
    "        s.sendto(b\"hithere99\", (\"192.168.0.10\", port))\n",
    "    n += 1\n",
    "    try:\n",
    "        j, addr = s.recvfrom(10)\n",
    "    except OSError:\n",
    "        continue\n",
    "    if j[0] == ord('E') and len(j) == 10:\n",
    "        gx, gy = int(j[1:5]), int(j[6:10])\n",
    "        dgx = gx-gx0\n",
    "        gx0 = gx\n",
    "    else:\n",
    "        dgx = -1\n",
    "        fbuff.text(j, 0, 0, 1)\n",
    "        ne = j.find(b\"E\")\n",
    "        if ne >= 0:\n",
    "            s.recv(10 - (len(j) - ne))\n",
    "    t1 = time.ticks_ms()\n",
    "    dt = t1 - t0\n",
    "    dtmax = max(dt, dtmax)\n",
    "    t0 = t1\n",
    "    if (n%100) == 0:\n",
    "        dt100 = (t1 - t100)/100\n",
    "        t100 = t1\n",
    "    if (n%10) == 0 or gy0//100 != gy//100:\n",
    "        fbuff.fill(0)\n",
    "        fatntext(str(gx), 0, 0)\n",
    "        fatntext(str(gy), 80, 0)\n",
    "        fatntext(str(dtmax), 64, 16)\n",
    "        #fatntext(str(gy), 64, 16)\n",
    "        fatntext(str(dt), 0, 20)\n",
    "        fatntext(str(dt100), 0, 36)\n",
    "        dtmax = 0\n",
    "        oledshow()\n",
    "    gy0 = gy"
   ]
  },
  {
   "cell_type": "code",
   "execution_count": null,
   "metadata": {},
   "outputs": [
    {
     "name": "stdout",
     "output_type": "stream",
     "text": [
      "b'E0999 0483'\n",
      "b'E0999 0492'\n",
      "b'E0999 0500'\n",
      "b'E0999 0502'\n",
      "b'E0574 0289'\n",
      "b'E0363 0354'\n",
      "b'E0275 0351'\n",
      ".b'E0273 0407'\n",
      "b'E0258 0386'\n",
      "b'E0252 0279'\n",
      "b'E0255 0277'\n",
      "b'E0261 0315'\n",
      "b'E0241 0405'\n",
      "b'E0227 0394'\n",
      "b'E0233 0353'\n",
      "b'E0208 0268'\n",
      "......................................................................"
     ]
    }
   ],
   "source": [
    "from OLED_driver import i2c, fbuff, oledshow, doublepixels, fatntext, oledshowfattext\n",
    "\n",
    "n = 0\n",
    "t0 = 0\n",
    "t100 = 0\n",
    "dt100 = 0\n",
    "gx0 = 0\n",
    "gy0 = 0\n",
    "dtmax = 0\n",
    "while True:\n",
    "    if (n%10) == 0:\n",
    "        s.sendto(b\"hithere99\", (\"192.168.0.10\", port))\n",
    "    n += 1\n",
    "    try:\n",
    "        j, addr = s.recvfrom(10)\n",
    "    except OSError:\n",
    "        continue\n",
    "    if j[0] == ord('E') and len(j) == 10:\n",
    "        gx, gy = int(j[1:5]), int(j[6:10])\n",
    "        dgx = gx-gx0\n",
    "        gx0 = gx\n",
    "    else:\n",
    "        dgx = -1\n",
    "        fbuff.text(j, 0, 0, 1)\n",
    "        ne = j.find(b\"E\")\n",
    "        if ne >= 0:\n",
    "            s.recv(10 - (len(j) - ne))\n",
    "    t1 = time.ticks_ms()\n",
    "    dt = t1 - t0\n",
    "    dtmax = max(dt, dtmax)\n",
    "    t0 = t1\n",
    "    if (n%100) == 0:\n",
    "        dt100 = (t1 - t100)/100\n",
    "        t100 = t1\n",
    "    if (n%10) == 0 or gy0//100 != gy//100:\n",
    "        fbuff.fill(0)\n",
    "        fatntext(str(gx), 0, 0)\n",
    "        fatntext(str(dgx), 80, 0)\n",
    "        fatntext(str(dtmax), 64, 16)\n",
    "        #fatntext(str(gy), 64, 16)\n",
    "        fatntext(str(dt), 0, 20)\n",
    "        fatntext(str(dt100), 0, 36)\n",
    "        dtmax = 0\n",
    "        oledshow()\n",
    "        print(j)\n",
    "    gy0 = gy"
   ]
  },
  {
   "cell_type": "code",
   "execution_count": 313,
   "metadata": {
    "collapsed": true
   },
   "outputs": [],
   "source": []
  },
  {
   "cell_type": "code",
   "execution_count": null,
   "metadata": {},
   "outputs": [
    {
     "name": "stdout",
     "output_type": "stream",
     "text": [
      "...............> init (1)\n",
      "\n",
      "beacon timeout\n",
      ".no AP found\n",
      "no AP found\n",
      "> auth (b0)\n",
      "> assoc (0)\n",
      "> run (10)\n",
      "> auth (2c0)\n",
      "> auth (b0)\n",
      "> assoc (0)\n",
      "> run (10)\n",
      "> auth (2c0)\n",
      "> auth (b0)\n",
      "> assoc (0)\n",
      "> run (10)\n",
      ".\n",
      "..................................................\u001b[34m\n",
      "\n",
      "*** Sending Ctrl-C\n",
      "\n",
      "\u001b[0m"
     ]
    }
   ],
   "source": [
    "from OLED_driver import i2c, fbuff, oledshow, doublepixels, fatntext, oledshowfattext\n",
    "\n",
    "n = 0\n",
    "t0 = 0\n",
    "gx0 = 0\n",
    "gy0 = 0\n",
    "while True:\n",
    "    if (n%10) == 0:\n",
    "        s.sendto(b\"hithere99\", (\"192.168.0.10\", port))\n",
    "    n += 1\n",
    "    try:\n",
    "        j, addr = s.recvfrom(10)\n",
    "    except OSError:\n",
    "        continue\n",
    "    if j[0] == ord('E') and len(j) == 10:\n",
    "        gx, gy = int(j[1:5]), int(j[6:10])\n",
    "        dgx = gx-gx0\n",
    "        gx0 = gx\n",
    "    else:\n",
    "        dgx = -1\n",
    "        fbuff.text(j, 0, 0, 1)\n",
    "        ne = j.find(b\"E\")\n",
    "        if ne >= 0:\n",
    "            s.recvfrom(10 - (len(j) - ne))\n",
    "        continue\n",
    "        \n",
    "    t1 = time.ticks_ms()\n",
    "    if (t1 - t0 < 20):\n",
    "        continue\n",
    "    t0 = t1\n",
    "    fbuff.fill(0)\n",
    "    if gx != 999:\n",
    "        rx, ry = int(gx/640*128), int((1-gy/480)*64)\n",
    "        fbuff.fill_rect(rx-8, ry-8, 16, 16, 1)\n",
    "    else:\n",
    "        fatntext(str(gy), 0, 0)\n",
    "    oledshow()\n"
   ]
  },
  {
   "cell_type": "code",
   "execution_count": 316,
   "metadata": {},
   "outputs": [
    {
     "name": "stdout",
     "output_type": "stream",
     "text": [
      "19\r\n"
     ]
    }
   ],
   "source": [
    "t0 = time.ticks_ms()\n",
    "fbuff.fill(0)\n",
    "if gx != 999:\n",
    "    rx, ry = int(gx/640*128), int(gy/480*64)\n",
    "    fbuff.fill_rect(rx-3, ry-3, 6, 6, 1)\n",
    "else:\n",
    "    fatntext(str(gy), 0, 0)\n",
    "oledshow()\n",
    "print(time.ticks_ms()-t0)\n"
   ]
  },
  {
   "cell_type": "code",
   "execution_count": null,
   "metadata": {
    "collapsed": true
   },
   "outputs": [],
   "source": []
  }
 ],
 "metadata": {
  "kernelspec": {
   "display_name": "MicroPython - USB",
   "language": "micropython",
   "name": "micropython"
  },
  "language_info": {
   "codemirror_mode": "python",
   "file_extension": ".py",
   "mimetype": "text/python",
   "name": "micropython"
  }
 },
 "nbformat": 4,
 "nbformat_minor": 2
}
