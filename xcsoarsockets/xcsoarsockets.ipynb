{
 "cells": [
  {
   "cell_type": "code",
   "execution_count": null,
   "metadata": {
    "collapsed": true
   },
   "outputs": [],
   "source": []
  },
  {
   "cell_type": "markdown",
   "metadata": {},
   "source": [
    "Experiments to see how to send data to XCSoar\n",
    "We have added an extra port into FillTCPPorts() of 9002\n",
    "\n",
    "We should generate fake NMEA data and send it in \n",
    "as a circle to see if it gets the radius right as a \n",
    "UDP format.  \n",
    "\n",
    "Look at hacking EyeDevice() perhaps\n",
    "\n",
    "1. Find default NMEA format and generate it\n",
    "2. Send the NMEA in as UDP to a socket and device\n",
    "3. Check if the system reports circles of the right radius\n",
    "4. Check if system reports wind direction right\n",
    "5. Check if device debug logs everything\n",
    "6. Check if NMEA logger logs everything incl bogus strings\n",
    "7. (Set thermal assist windows on flight phone)\n",
    "8. Prove the orientation box can work with NMEA/Z sentences\n",
    "\n",
    "9. Determin the bandwidth of values coming in (can this be used to log directly from the sensors\n",
    "10. Find a way to plot the blue circle in a window\n",
    "\n",
    "-- Get orientation values \n",
    "\n",
    "$PCPROBE,T,FD92,FF93,00D9,FD18,017E,FEDB,0370,0075,00D6,0064,001C,000000,, \n",
    "\n",
    "$PCPROBE,T,Q0,Q1,Q2,Q3,ax,ay,az,temp,rh,batt,delta_press,abs_press,C,\n",
    "\n",
    "Encode into the probe value (maybe the humidity)\n",
    "But start with the BNO0\n",
    "\n"
   ]
  },
  {
   "cell_type": "code",
   "execution_count": 27,
   "metadata": {
    "collapsed": true
   },
   "outputs": [],
   "source": [
    "import socket\n",
    "udpsocket = socket.socket(socket.AF_INET, socket.SOCK_DGRAM)\n",
    "udpaddress = (\"localhost\", 4353)"
   ]
  },
  {
   "cell_type": "code",
   "execution_count": 111,
   "metadata": {},
   "outputs": [
    {
     "data": {
      "text/plain": [
       "b'$GPGGA,193345.806,5324.811,N,0154.285,W,1,12,1.0,100.0,M,0.0,M,,*4d\\r\\n'"
      ]
     },
     "execution_count": 111,
     "metadata": {},
     "output_type": "execute_result"
    }
   ],
   "source": [
    "import math, time, datetime\n",
    "\n",
    "tstamp0 = datetime.datetime.now()\n",
    "lat0, lng0 = 53.4121628,-2.9864259\n",
    "lat0, lng0 = 53.413522,-1.9062517\n",
    "velknots, veldir = 0, 0\n",
    "\n",
    "earthrad = 6378137\n",
    "nyfac = 2*math.pi*earthrad/360\n",
    "exfac = nyfac*math.cos(math.radians(lat0))\n",
    "\n",
    "def tform(dtseconds):\n",
    "    tstamp = tstamp0 + datetime.timedelta(seconds=dtseconds)\n",
    "    return \"%02u%02u%02u.%03d\" % \\\n",
    "        (tstamp.hour, tstamp.minute, tstamp.second, int(tstamp.microsecond/1000))\n",
    "    \n",
    "def tformdate(dtseconds):\n",
    "    tstamp = tstamp0 + datetime.timedelta(seconds=dtseconds)\n",
    "    return \"%02u%02u%02u\" % (tstamp.day, tstamp.month, tstamp.year%100)\n",
    "\n",
    "    \n",
    "def latlngform(x, y):\n",
    "    lat = lat0 + y/nyfac\n",
    "    lng = lng0 + x/exfac\n",
    "    return \"%02d%06.3f,%c,%02d%06.3f,%c\" % \\\n",
    "        (int(abs(lat)), (abs(lat)-math.floor(abs(lat)))*60, 'N' if lat>0 else 'S', \n",
    "         int(abs(lng)), (abs(lng)-math.floor(abs(lng)))*60, 'E' if lng>0 else 'W')\n",
    "\n",
    "def wrapchecksum(rec):\n",
    "    s = 0\n",
    "    for c in rec:\n",
    "        s ^= ord(c)\n",
    "    return \"${:s}*{:02x}\\r\\n\".format(rec, s).encode()\n",
    "\n",
    "prevx, prevy, prevdtseconds = 0, 0, 0\n",
    "def gprmcrec(dtseconds, x, y):\n",
    "    global prevx, prevy, prevdtseconds\n",
    "    dx, dy, ddt = x-prevx, y-prevy, dtseconds-prevdtseconds\n",
    "    velknots = math.hypot(dx, dy)*1.94384/max(0.1, ddt)\n",
    "    veldir = (360+math.degrees(math.atan2(dx, dy)))%360\n",
    "    prevx, prevy, prevdtseconds = x, y, dtseconds\n",
    "    #velknots, veldir = 0, 0\n",
    "    rec = \"GPRMC,%s,A,%s,%05.1f,%05.1f,%s,000.0,\" % \\\n",
    "        (tform(dtseconds), latlngform(x, y), \n",
    "         min(velknots, 100), veldir, tformdate(dtseconds))\n",
    "    return wrapchecksum(rec)\n",
    "\n",
    "def gpggarec(dtseconds, x, y, alt):\n",
    "    rec = \"GPGGA,%s,%s,1,12,1.0,%.1f,M,0.0,M,,\" % \\\n",
    "        (tform(dtseconds), latlngform(x, y), alt)\n",
    "    return wrapchecksum(rec)\n",
    "\n",
    "#$GPRMC,153412.410,A,5230.600,N,01323.246,E,2027.8,289.2,310718,000.0,W*4C\n",
    "#$GPGGA,153413.410,5230.879,N,01322.443,E,1,12,1.0,0.0,M,0.0,M,,*69\n",
    "gprmcrec(1, 100, 0)\n",
    "gpggarec(1, 100, 0, 100)\n"
   ]
  },
  {
   "cell_type": "code",
   "execution_count": 406,
   "metadata": {},
   "outputs": [
    {
     "ename": "KeyboardInterrupt",
     "evalue": "",
     "output_type": "error",
     "traceback": [
      "\u001b[0;31m---------------------------------------------------------------------------\u001b[0m",
      "\u001b[0;31mKeyboardInterrupt\u001b[0m                         Traceback (most recent call last)",
      "\u001b[0;32m<ipython-input-406-be380e1b39d2>\u001b[0m in \u001b[0;36m<module>\u001b[0;34m()\u001b[0m\n\u001b[1;32m     18\u001b[0m     \u001b[0must\u001b[0m\u001b[0;34m(\u001b[0m\u001b[0mgpggarec\u001b[0m\u001b[0;34m(\u001b[0m\u001b[0mt\u001b[0m\u001b[0;34m,\u001b[0m \u001b[0mx\u001b[0m\u001b[0;34m,\u001b[0m \u001b[0my\u001b[0m\u001b[0;34m,\u001b[0m \u001b[0malt\u001b[0m\u001b[0;34m)\u001b[0m\u001b[0;34m)\u001b[0m\u001b[0;34m\u001b[0m\u001b[0m\n\u001b[1;32m     19\u001b[0m     \u001b[0must\u001b[0m\u001b[0;34m(\u001b[0m\u001b[0mwrapchecksum\u001b[0m\u001b[0;34m(\u001b[0m\u001b[0mCprobeNMEA\u001b[0m\u001b[0;34m(\u001b[0m\u001b[0mt\u001b[0m\u001b[0;34m)\u001b[0m\u001b[0;34m)\u001b[0m\u001b[0;34m)\u001b[0m\u001b[0;34m\u001b[0m\u001b[0m\n\u001b[0;32m---> 20\u001b[0;31m     \u001b[0mtime\u001b[0m\u001b[0;34m.\u001b[0m\u001b[0msleep\u001b[0m\u001b[0;34m(\u001b[0m\u001b[0;36m1\u001b[0m\u001b[0;34m/\u001b[0m\u001b[0mtperiod\u001b[0m\u001b[0;34m)\u001b[0m\u001b[0;34m\u001b[0m\u001b[0m\n\u001b[0m\u001b[1;32m     21\u001b[0m \u001b[0;34m\u001b[0m\u001b[0m\n",
      "\u001b[0;31mKeyboardInterrupt\u001b[0m: "
     ]
    }
   ],
   "source": [
    "import time, math\n",
    "circlerad = 90\n",
    "circleperiod = 40   \n",
    "climbrate = 1.2\n",
    "tperiod = 10  # readings per second\n",
    "\n",
    "udprecs = [ ]\n",
    "def ust(rec):\n",
    "    udprecs.append(rec)\n",
    "    udpsocket.sendto(rec, udpaddress)\n",
    "\n",
    "for i in range(4000):\n",
    "    t = i/tperiod\n",
    "    theta = math.radians(360*t/circleperiod)\n",
    "    x, y = math.sin(theta)*circlerad, math.cos(theta)*circlerad\n",
    "    alt = 800+t*climbrate\n",
    "    ust(gprmcrec(t, x, y))\n",
    "    ust(gpggarec(t, x, y, alt))\n",
    "    ust(wrapchecksum(CprobeNMEA(t)))\n",
    "    time.sleep(1/tperiod)\n",
    "    "
   ]
  },
  {
   "cell_type": "code",
   "execution_count": null,
   "metadata": {
    "collapsed": true
   },
   "outputs": [],
   "source": [
    "# Make a Q-format converter\n",
    "# Qt00000DFDu04D8C198y01E8D98DxFFE4C97Da01A0\n",
    "# Find the default $GPGSA or whatever"
   ]
  },
  {
   "cell_type": "code",
   "execution_count": null,
   "metadata": {
    "collapsed": true
   },
   "outputs": [],
   "source": []
  },
  {
   "cell_type": "code",
   "execution_count": 359,
   "metadata": {},
   "outputs": [
    {
     "data": {
      "text/plain": [
       "(19.0, 212.0, 3.8000000000000007)"
      ]
     },
     "execution_count": 359,
     "metadata": {},
     "output_type": "execute_result"
    }
   ],
   "source": [
    "def CProbeQuatToQEuler(q):\n",
    "    def FromXY(x, y):  return math.atan2(y,x)\n",
    "    def Square(x):  return x**2\n",
    "    sin_pitch = -2 * (q[0] * q[2] - q[3] * q[1])\n",
    "    pitch_angle = math.asin(sin_pitch)\n",
    "    heading = math.pi + FromXY(Square(q[3]) - Square(q[0]) - Square(q[1]) + Square(q[2]), 2 * (q[1] * q[2] + q[3] * q[0]));\n",
    "    roll = FromXY(Square(q[3]) + Square(q[0]) - Square(q[1]) - Square(q[2]), 2 * (q[0] * q[1] + q[3] * q[2]))\n",
    "    return math.degrees(pitch_angle), math.degrees(heading), math.degrees(roll)\n",
    "\n",
    "def Quat(X, Y, Z):\n",
    "    yaw, roll, pitch = math.radians(Z), math.radians(X), math.radians(Y)\n",
    "    cy = math.cos(yaw * 0.5);\n",
    "    sy = math.sin(yaw * 0.5);\n",
    "    cr = math.cos(roll * 0.5);\n",
    "    sr = math.sin(roll * 0.5);\n",
    "    cp = math.cos(pitch * 0.5);\n",
    "    sp = math.sin(pitch * 0.5);\n",
    "\n",
    "    w = cy * cr * cp + sy * sr * sp;\n",
    "    x = cy * sr * cp - sy * cr * sp;\n",
    "    y = cy * cr * sp + sy * sr * cp;\n",
    "    z = sy * cr * cp - cy * sr * sp;\n",
    "    return w, x, y, z\n",
    "def CProbeEulerToQuat(pitch_angle, heading, roll):\n",
    "    return Quat(roll, -pitch_angle, 360-heading)\n",
    "CProbeQuatToQEuler(CProbeEulerToQuat(19,212,3.8))\n"
   ]
  },
  {
   "cell_type": "code",
   "execution_count": 403,
   "metadata": {},
   "outputs": [],
   "source": [
    "def CprobeNMEA(t):\n",
    "    pitch_angle, heading, roll = 19, 212, 3.8\n",
    "    acc = 0, 0, 5\n",
    "    tempdegc = 28\n",
    "    humidpc = 60\n",
    "    battpc = 44\n",
    "    delta_press = 50\n",
    "    abs_press = 101000\n",
    "    cprobecharging = True\n",
    "    \n",
    "    tempdegc = t%20\n",
    "    humidpc = (t%70)+10\n",
    "    roll = math.sin(t/2)*30\n",
    "    heading = (t*17)%360\n",
    "\n",
    "    q = CProbeEulerToQuat(pitch_angle, heading, roll)\n",
    "    def qcot(w):  return int(w*1000)&0xFFFF\n",
    "    qs = \"%04X,%04X,%04X,%04X\" % (qcot(q[0]), qcot(q[1]), qcot(q[2]), qcot(q[3]))\n",
    "    def acot(w):  return int(w/9.81*1000)&0xFFFF\n",
    "    acs = \"%04X,%04X,%04X\" % (acot(acc[0]), acot(acc[1]), acot(acc[2]))\n",
    "\n",
    "    k = \"PCPROBE,T,%s,%s,%04X,%04X,%04X,%04X,,%s,\" % \\\n",
    "    (qs, acs, int(tempdegc*10), int(humidpc*10), int(battpc), int(delta_press*10), \"C\" if cprobecharging else \"\")\n",
    "    return k\n"
   ]
  },
  {
   "cell_type": "code",
   "execution_count": 401,
   "metadata": {},
   "outputs": [
    {
     "data": {
      "text/plain": [
       "b'$PCPROBE,T,00E6,00D6,00A2,03A7,0000,0000,01FD,0014,0078,002C,01F4,,C,*6e\\r\\n'"
      ]
     },
     "execution_count": 401,
     "metadata": {},
     "output_type": "execute_result"
    }
   ],
   "source": [
    "wrapchecksum(CprobeNMEA(2))"
   ]
  },
  {
   "cell_type": "code",
   "execution_count": null,
   "metadata": {
    "collapsed": true
   },
   "outputs": [],
   "source": []
  }
 ],
 "metadata": {
  "kernelspec": {
   "display_name": "Python 3",
   "language": "python",
   "name": "python3"
  },
  "language_info": {
   "codemirror_mode": {
    "name": "ipython",
    "version": 3
   },
   "file_extension": ".py",
   "mimetype": "text/x-python",
   "name": "python",
   "nbconvert_exporter": "python",
   "pygments_lexer": "ipython3",
   "version": "3.6.5"
  }
 },
 "nbformat": 4,
 "nbformat_minor": 2
}
