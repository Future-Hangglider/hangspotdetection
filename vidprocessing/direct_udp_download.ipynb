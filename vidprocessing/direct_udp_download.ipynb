{
 "cells": [
  {
   "cell_type": "code",
   "execution_count": 2,
   "metadata": {},
   "outputs": [
    {
     "name": "stdout",
     "output_type": "stream",
     "text": [
      "(b'Zt0000D9F6xFFFAy0000z0001aFCA5b00A1cFE44w0CFExD282y1E1Az1ED8sF7\\n', ('192.168.4.1', 9019))\n"
     ]
    }
   ],
   "source": [
    "# Use this if receiving from UDP socket and saving\n",
    "import socket\n",
    "s = socket.socket(socket.AF_INET, socket.SOCK_DGRAM)\n",
    "s.settimeout(3)\n",
    "ipnum = \"192.168.4.3\"\n",
    "port = 9019\n",
    "#s.bind((ipnum, port))   \n",
    "s.sendto(b\"HiThere\", (\"192.168.4.1\", port))\n",
    "print(s.recvfrom(200))\n"
   ]
  },
  {
   "cell_type": "code",
   "execution_count": 3,
   "metadata": {},
   "outputs": [
    {
     "name": "stdout",
     "output_type": "stream",
     "text": [
      "0 b'Zt0000D9FDxFFFByFFFFz0000aFCA5b00A1cFE44w0CFExD282y1E1Az1ED8sF7\\n'\n",
      "1000 b'Zt000221C7xFFF8y0000zFFFFaFCA6b00A0cFE43w0CFExD27By1E19z1ED0sF7\\n'\n",
      "2000 b'Zt000240F5xFFFAy0000z0000aFCA6b00A0cFE43w0CFExD27By1E19z1ED0sF7\\n'\n",
      "3000 b'Ft00025D94p01889C\\n'\n",
      "4000 b'Zt0002799FxFFFByFFFFz0000aFCA6b00A0cFE43w0CFExD27By1E19z1ED0sF7\\n'\n",
      "5000 b'Zt000297C5xFFFAy0000z0001aFCA6b00A0cFE43w0CFExD27By1E19z1ED0sF7\\n'\n",
      "6000 b'Zt0002B6B0xFFFBy0001z0000aFCA5b00A0cFE43w0D01xD27By1E17z1ED1sF7\\n'\n",
      "7000 b'Ft0002D557p01889D\\n'\n",
      "8000 b'Zt0002F1A3xFFFEyFFFDz0001aFCA5b00A0cFE43w0D01xD27By1E17z1ED1sF7\\n'\n",
      "9000 b'Zt00030F53xFFFFy0002z0005aFCA5b00A0cFE43w0D01xD27By1E17z1ED1sF7\\n'\n",
      "10000 b'Ft00032E1Ap01889F\\n'\n",
      "11000 b'Ft00034AC4p01889E\\n'\n",
      "12000 b'Ft00036668p01889E\\n'\n",
      "13000 b'Ft00038316p01889E\\n'\n",
      "103.88706040382385\n"
     ]
    }
   ],
   "source": [
    "import time\n",
    "fname = \"udpstream.log\"\n",
    "t0 = time.time()\n",
    "fout = open(fname, \"wb\")\n",
    "fout.write(b\"header\\n\\n\")\n",
    "for i in range(14000):\n",
    "    try:\n",
    "        j, addr = s.recvfrom(200)\n",
    "        if i > 1000:\n",
    "            fout.write(j)\n",
    "        if (i%1000) == 0:\n",
    "            print(i, j)\n",
    "    except OSError:\n",
    "        continue\n",
    "print(time.time() - t0)\n",
    "fout.close()"
   ]
  },
  {
   "cell_type": "code",
   "execution_count": null,
   "metadata": {},
   "outputs": [],
   "source": []
  }
 ],
 "metadata": {
  "kernelspec": {
   "display_name": "Python 3",
   "language": "python",
   "name": "python3"
  },
  "language_info": {
   "codemirror_mode": {
    "name": "ipython",
    "version": 3
   },
   "file_extension": ".py",
   "mimetype": "text/x-python",
   "name": "python",
   "nbconvert_exporter": "python",
   "pygments_lexer": "ipython3",
   "version": "3.7.0"
  }
 },
 "nbformat": 4,
 "nbformat_minor": 2
}
